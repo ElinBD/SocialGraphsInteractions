{
 "cells": [
  {
   "cell_type": "markdown",
   "metadata": {},
   "source": [
    "# Exercise Chapter 1 \n",
    "\n",
    "1. List three different real networks and state the nodes and links for each of them:\n",
    "    -Social networks, f ex. Facbook\n",
    "        nodes: people / profiles\n",
    "        links: friendship connections\n",
    "        \n",
    "    -Public transport network\n",
    "        nodes: destinations / stations\n",
    "        links: distance & way of transportation\n",
    "    \n",
    "    -Transactions\n",
    "        nodes: people / bankaccounts\n",
    "        links: transaction / ammount of money\n",
    "        \n",
    "2. Tell us of the network you are personally most interested in. \n",
    "        Social network\n",
    "\n",
    "    Address the following questions:\n",
    "    What are its nodes and links?\n",
    "        nodes: people, links: connections\n",
    "       \n",
    "    How large is it?\n",
    "        7 billion nodes. A lot more links\n",
    "        \n",
    "    Can be mapped out?\n",
    "        Yes\n",
    "        \n",
    "    Why do you care about it? \n",
    "        Think it is interesting to see how connected the world is and how wide these connections reach over the world.\n",
    "        \n",
    "3. \n",
    "        \n",
    "        \n",
    "\n",
    "    \n",
    "    \n",
    "\n",
    "    \n"
   ]
  },
  {
   "cell_type": "markdown",
   "metadata": {},
   "source": [
    "# Part two:\n",
    "\n",
    "Königsberg Problem\n",
    "Which of the icons in Image 2.19 can be drawn without raising yourpencil from the paper, and without drawing any line more than once? Why?\n",
    "\n",
    "    a c and d because they have two or less nodes with an uneven grade.\n",
    "    \n",
    "Construct for the networks (a) and (b) in Imade 2.20:\n",
    "\n",
    "The corresponding adjacency matrices.\n",
    "    \n",
    "        "
   ]
  },
  {
   "cell_type": "markdown",
   "metadata": {},
   "source": [
    "# Exercise 2.3 Graph Representation\n",
    "\n",
    "The adjacency matrix is a useful graph representation for many analytical calculations. However, when we need to store a network in a computer, we can save computer memory by offering the list of links in a Lx2 matrix, whose rows contain the starting and end point i and j of each link. Construct for the networks (a) and (b) in Image 2.20:"
   ]
  },
  {
   "cell_type": "code",
   "execution_count": 2,
   "metadata": {},
   "outputs": [
    {
     "name": "stdout",
     "output_type": "stream",
     "text": [
      "Adjacency matrix for Graph A\n",
      "[[0 1 1 1 0 1]\n",
      " [1 0 1 1 0 0]\n",
      " [1 1 0 0 0 1]\n",
      " [1 1 0 0 0 0]\n",
      " [0 0 0 0 0 0]\n",
      " [1 0 1 0 0 0]]\n",
      "\n",
      "Adjacency matrix for Graph B\n",
      "[[0 1 0 0 0 0]\n",
      " [1 0 1 1 0 0]\n",
      " [1 1 0 0 0 0]\n",
      " [1 0 0 0 0 0]\n",
      " [0 0 0 0 0 0]\n",
      " [1 0 1 0 0 0]]\n",
      "\n",
      "Edgelist for Graph A\n",
      "[(1, 2), (1, 3), (1, 4), (1, 6), (2, 3), (2, 4), (3, 6)]\n",
      "\n",
      "Edgelist for Graph B\n",
      "[(1, 2), (2, 1), (2, 3), (2, 4), (3, 1), (3, 2), (4, 1), (6, 1), (6, 3)]\n",
      "\n",
      "Average clustering coefficient for Graph A\n",
      "0.6388888888888888\n",
      "\n",
      " Adjacency matrix for relabelled Graph A\n",
      "[[0 1 1 1 0 1]\n",
      " [1 0 1 1 0 0]\n",
      " [1 1 0 0 0 1]\n",
      " [1 1 0 0 0 0]\n",
      " [0 0 0 0 0 0]\n",
      " [1 0 1 0 0 0]]\n",
      "\n",
      "Edgelist for relabelled Graph A\n",
      "[(1, 2), (1, 3), (1, 4), (1, 5), (2, 3), (2, 4), (3, 5)]\n",
      "\n",
      " Conclusion: The adjacency matrix does not change, but the edge list does when relabelling nodes\n",
      "\n",
      "In an edgelist you cannot see the nodes that do not have an edge. In the adjacency matrix these are shown, but as a row filled with 0\n",
      "\n",
      "Four routes possible with length 3 between 1 and 3 in Graph A (1, 3, 1, 3), (1, 4, 2, 3), (1, 6, 1, 3), (1, 2, 1, 6)\n",
      "\n",
      "No routes possible with length 3 between 1 and 3 in Graph B\n"
     ]
    }
   ],
   "source": [
    "import numpy as np\n",
    "import networkx as nx\n",
    "\n",
    "a_list = [(1, 2), (1, 3), (1, 4), (1, 6), \n",
    "          (2, 1), (2, 3), (2, 4), \n",
    "          (3, 1), (3, 2), (3, 6),\n",
    "          (4, 1), (4, 2),\n",
    "          (6, 1), (6, 3)]\n",
    "\n",
    "b_list = [(1, 2), \n",
    "          (2, 1), (2, 3), (2, 4), \n",
    "          (3, 1), (3, 2),\n",
    "          (4, 1),\n",
    "          (6, 1), (6,3)]\n",
    "\n",
    "\n",
    "G_a = nx.Graph()\n",
    "\n",
    "G_a.add_nodes_from(range(1, 7))\n",
    "G_a.add_edges_from(a_list)\n",
    "\n",
    "G_b = nx.DiGraph()\n",
    "G_b.add_nodes_from(range(1, 7))\n",
    "G_b.add_edges_from(b_list)\n",
    "\n",
    "# adjecency matrices\n",
    "print(\"Adjacency matrix for Graph A\")\n",
    "print (nx.adjacency_matrix(G_a).todense())\n",
    "print(\"\\nAdjacency matrix for Graph B\")\n",
    "print (nx.adjacency_matrix(G_b).todense())\n",
    "\n",
    "print(\"\\nEdgelist for Graph A\")\n",
    "print(G_a.edges)\n",
    "print(\"\\nEdgelist for Graph B\")\n",
    "print(G_b.edges)\n",
    "\n",
    "print(\"\\nAverage clustering coefficient for Graph A\")\n",
    "print(nx.average_clustering(G_a))\n",
    "\n",
    "a_mapping = {6:5, 5:6}\n",
    "G_a = nx.relabel_nodes(G_a, a_mapping)\n",
    "\n",
    "print(\"\\n Adjacency matrix for relabelled Graph A\")\n",
    "print (nx.adjacency_matrix(G_a).todense())\n",
    "print(\"\\nEdgelist for relabelled Graph A\")\n",
    "print(G_a.edges)\n",
    "\n",
    "print(\"\\n Conclusion: The adjacency matrix does not change, but the edge list does when relabelling nodes\")\n",
    "\n",
    "print(\"\\nIn an edgelist you cannot see the nodes that do not have an edge. In the adjacency matrix these are shown, but as a row filled with 0\")\n",
    "\n",
    "print(\"\\nFour routes possible with length 3 between 1 and 3 in Graph A (1, 3, 1, 3), (1, 4, 2, 3), (1, 6, 1, 3), (1, 2, 1, 6)\")\n",
    "\n",
    "print(\"\\nNo routes possible with length 3 between 1 and 3 in Graph B\")\n"
   ]
  },
  {
   "cell_type": "markdown",
   "metadata": {},
   "source": [
    "# Exercise 2.5 Bipartite Networks\n"
   ]
  },
  {
   "cell_type": "code",
   "execution_count": 3,
   "metadata": {},
   "outputs": [
    {
     "name": "stdout",
     "output_type": "stream",
     "text": [
      "[[0 0 0 0 0 0 1 0 0 0 0]\n",
      " [0 0 0 0 0 0 0 0 1 0 0]\n",
      " [0 0 0 0 0 0 1 1 1 0 0]\n",
      " [0 0 0 0 0 0 0 0 1 1 0]\n",
      " [0 0 0 0 0 0 0 0 1 0 1]\n",
      " [0 0 0 0 0 0 0 0 0 0 1]\n",
      " [1 0 1 0 0 0 0 0 0 0 0]\n",
      " [0 0 1 0 0 0 0 0 0 0 0]\n",
      " [0 1 1 1 1 0 0 0 0 0 0]\n",
      " [0 0 0 1 0 0 0 0 0 0 0]\n",
      " [0 0 0 0 1 1 0 0 0 0 0]]\n",
      "Anti diagonal because ...\n",
      "[[0. 0. 0. 0. 0. 0.]\n",
      " [0. 0. 0. 0. 0. 0.]\n",
      " [0. 0. 0. 0. 0. 0.]\n",
      " [0. 0. 0. 0. 0. 0.]\n",
      " [0. 0. 0. 0. 0. 0.]\n",
      " [0. 0. 0. 0. 0. 0.]]\n",
      "[[0. 0. 0. 0. 0.]\n",
      " [0. 0. 0. 0. 0.]\n",
      " [0. 0. 0. 0. 0.]\n",
      " [0. 0. 0. 0. 0.]\n",
      " [0. 0. 0. 0. 0.]]\n",
      "0.0\n",
      "0.0\n",
      "0.5\n",
      "0.4333333333333333\n",
      "Differs because the projection 'connects' the nodes in the two sides\n"
     ]
    }
   ],
   "source": [
    "G_c = nx.Graph()\n",
    "G_c.add_nodes_from(range(1,12))\n",
    "G_c.add_edges_from([(1,7), (2,9), (3, 7), (3, 8), (3, 9), (4, 9), (4, 10), (5, 9), (5, 11), (6, 11)])\n",
    "\n",
    "print(nx.adjacency_matrix(G_c).todense())\n",
    "print(\"Anti diagonal because ...\")\n",
    "\n",
    "print(nx.adjacency_matrix(G_c, nodelist = [1, 2, 3, 4, 5, 6]).todense())\n",
    "print(nx.adjacency_matrix(G_c, nodelist = [7, 8, 9, 10, 11]).todense())\n",
    "\n",
    "print(nx.average_clustering(G_c, nodes = [1, 2, 3, 4, 5, 6]))\n",
    "print(nx.average_clustering(G_c, nodes = [7, 8, 9, 10, 11]))\n",
    "\n",
    "\n",
    "print(nx.average_clustering(nx.projected_graph(G_c, nodes = [1, 2, 3, 4, 5, 6])))\n",
    "print(nx.average_clustering(nx.projected_graph(G_c, nodes = [7, 8, 9, 10, 11])))\n",
    "\n",
    "print(\"Differs because the projection 'connects' the nodes in the two sides\")"
   ]
  },
  {
   "cell_type": "markdown",
   "metadata": {},
   "source": [
    "# Part 3"
   ]
  },
  {
   "cell_type": "code",
   "execution_count": 4,
   "metadata": {},
   "outputs": [],
   "source": [
    "import matplotlib.pyplot as plt\n",
    "import numpy as np\n",
    "import random\n",
    "import networkx"
   ]
  },
  {
   "cell_type": "code",
   "execution_count": 5,
   "metadata": {},
   "outputs": [],
   "source": [
    "# binning  real numbers\n",
    "gaussian_numbers = np.random.normal(loc = 3, scale = 0.125, size = 5000)"
   ]
  },
  {
   "cell_type": "code",
   "execution_count": 12,
   "metadata": {},
   "outputs": [
    {
     "name": "stdout",
     "output_type": "stream",
     "text": [
      "[   5   37  176  626 1176 1327 1036  473  122   22]\n",
      "[2.53070815 2.61870605 2.70670396 2.79470186 2.88269976 2.97069766\n",
      " 3.05869556 3.14669346 3.23469136 3.32268927 3.41068717]\n",
      "Returns array of numbers in bin and middel of bin. They do not have the same length\n"
     ]
    }
   ],
   "source": [
    "hist, bin_edges = np.histogram(gaussian_numbers, bins=10)\n",
    "print(hist)\n",
    "print(bin_edges)\n",
    "print(\"Returns array of numbers in bin and middel of bin. They do not have the same length\")"
   ]
  },
  {
   "cell_type": "code",
   "execution_count": 11,
   "metadata": {},
   "outputs": [
    {
     "ename": "ValueError",
     "evalue": "shape mismatch: objects cannot be broadcast to a single shape",
     "output_type": "error",
     "traceback": [
      "\u001b[1;31m---------------------------------------------------------------------------\u001b[0m",
      "\u001b[1;31mValueError\u001b[0m                                Traceback (most recent call last)",
      "\u001b[1;32m<ipython-input-11-96e169ebe750>\u001b[0m in \u001b[0;36m<module>\u001b[1;34m()\u001b[0m\n\u001b[1;32m----> 1\u001b[1;33m \u001b[0mplot\u001b[0m \u001b[1;33m=\u001b[0m \u001b[0mplt\u001b[0m\u001b[1;33m.\u001b[0m\u001b[0mbar\u001b[0m\u001b[1;33m(\u001b[0m\u001b[0mx\u001b[0m \u001b[1;33m=\u001b[0m \u001b[0mbin_edges\u001b[0m\u001b[1;33m,\u001b[0m \u001b[0malign\u001b[0m \u001b[1;33m=\u001b[0m \u001b[1;34m'edge'\u001b[0m\u001b[1;33m,\u001b[0m \u001b[0mheight\u001b[0m \u001b[1;33m=\u001b[0m \u001b[0mhist\u001b[0m\u001b[1;33m)\u001b[0m\u001b[1;33m\u001b[0m\u001b[0m\n\u001b[0m",
      "\u001b[1;32m~\\Anaconda2\\envs\\py36\\lib\\site-packages\\matplotlib\\pyplot.py\u001b[0m in \u001b[0;36mbar\u001b[1;34m(*args, **kwargs)\u001b[0m\n\u001b[0;32m   2768\u001b[0m                       mplDeprecation)\n\u001b[0;32m   2769\u001b[0m     \u001b[1;32mtry\u001b[0m\u001b[1;33m:\u001b[0m\u001b[1;33m\u001b[0m\u001b[0m\n\u001b[1;32m-> 2770\u001b[1;33m         \u001b[0mret\u001b[0m \u001b[1;33m=\u001b[0m \u001b[0max\u001b[0m\u001b[1;33m.\u001b[0m\u001b[0mbar\u001b[0m\u001b[1;33m(\u001b[0m\u001b[1;33m*\u001b[0m\u001b[0margs\u001b[0m\u001b[1;33m,\u001b[0m \u001b[1;33m**\u001b[0m\u001b[0mkwargs\u001b[0m\u001b[1;33m)\u001b[0m\u001b[1;33m\u001b[0m\u001b[0m\n\u001b[0m\u001b[0;32m   2771\u001b[0m     \u001b[1;32mfinally\u001b[0m\u001b[1;33m:\u001b[0m\u001b[1;33m\u001b[0m\u001b[0m\n\u001b[0;32m   2772\u001b[0m         \u001b[0max\u001b[0m\u001b[1;33m.\u001b[0m\u001b[0m_hold\u001b[0m \u001b[1;33m=\u001b[0m \u001b[0mwashold\u001b[0m\u001b[1;33m\u001b[0m\u001b[0m\n",
      "\u001b[1;32m~\\Anaconda2\\envs\\py36\\lib\\site-packages\\matplotlib\\__init__.py\u001b[0m in \u001b[0;36minner\u001b[1;34m(ax, *args, **kwargs)\u001b[0m\n\u001b[0;32m   1853\u001b[0m                         \u001b[1;34m\"the Matplotlib list!)\"\u001b[0m \u001b[1;33m%\u001b[0m \u001b[1;33m(\u001b[0m\u001b[0mlabel_namer\u001b[0m\u001b[1;33m,\u001b[0m \u001b[0mfunc\u001b[0m\u001b[1;33m.\u001b[0m\u001b[0m__name__\u001b[0m\u001b[1;33m)\u001b[0m\u001b[1;33m,\u001b[0m\u001b[1;33m\u001b[0m\u001b[0m\n\u001b[0;32m   1854\u001b[0m                         RuntimeWarning, stacklevel=2)\n\u001b[1;32m-> 1855\u001b[1;33m             \u001b[1;32mreturn\u001b[0m \u001b[0mfunc\u001b[0m\u001b[1;33m(\u001b[0m\u001b[0max\u001b[0m\u001b[1;33m,\u001b[0m \u001b[1;33m*\u001b[0m\u001b[0margs\u001b[0m\u001b[1;33m,\u001b[0m \u001b[1;33m**\u001b[0m\u001b[0mkwargs\u001b[0m\u001b[1;33m)\u001b[0m\u001b[1;33m\u001b[0m\u001b[0m\n\u001b[0m\u001b[0;32m   1856\u001b[0m \u001b[1;33m\u001b[0m\u001b[0m\n\u001b[0;32m   1857\u001b[0m         inner.__doc__ = _add_data_doc(inner.__doc__,\n",
      "\u001b[1;32m~\\Anaconda2\\envs\\py36\\lib\\site-packages\\matplotlib\\axes\\_axes.py\u001b[0m in \u001b[0;36mbar\u001b[1;34m(self, *args, **kwargs)\u001b[0m\n\u001b[0;32m   2231\u001b[0m         x, height, width, y, linewidth = np.broadcast_arrays(\n\u001b[0;32m   2232\u001b[0m             \u001b[1;31m# Make args iterable too.\u001b[0m\u001b[1;33m\u001b[0m\u001b[1;33m\u001b[0m\u001b[0m\n\u001b[1;32m-> 2233\u001b[1;33m             np.atleast_1d(x), height, width, y, linewidth)\n\u001b[0m\u001b[0;32m   2234\u001b[0m \u001b[1;33m\u001b[0m\u001b[0m\n\u001b[0;32m   2235\u001b[0m         \u001b[1;31m# Now that units have been converted, set the tick locations.\u001b[0m\u001b[1;33m\u001b[0m\u001b[1;33m\u001b[0m\u001b[0m\n",
      "\u001b[1;32m~\\Anaconda2\\envs\\py36\\lib\\site-packages\\numpy\\lib\\stride_tricks.py\u001b[0m in \u001b[0;36mbroadcast_arrays\u001b[1;34m(*args, **kwargs)\u001b[0m\n\u001b[0;32m    247\u001b[0m     \u001b[0margs\u001b[0m \u001b[1;33m=\u001b[0m \u001b[1;33m[\u001b[0m\u001b[0mnp\u001b[0m\u001b[1;33m.\u001b[0m\u001b[0marray\u001b[0m\u001b[1;33m(\u001b[0m\u001b[0m_m\u001b[0m\u001b[1;33m,\u001b[0m \u001b[0mcopy\u001b[0m\u001b[1;33m=\u001b[0m\u001b[1;32mFalse\u001b[0m\u001b[1;33m,\u001b[0m \u001b[0msubok\u001b[0m\u001b[1;33m=\u001b[0m\u001b[0msubok\u001b[0m\u001b[1;33m)\u001b[0m \u001b[1;32mfor\u001b[0m \u001b[0m_m\u001b[0m \u001b[1;32min\u001b[0m \u001b[0margs\u001b[0m\u001b[1;33m]\u001b[0m\u001b[1;33m\u001b[0m\u001b[0m\n\u001b[0;32m    248\u001b[0m \u001b[1;33m\u001b[0m\u001b[0m\n\u001b[1;32m--> 249\u001b[1;33m     \u001b[0mshape\u001b[0m \u001b[1;33m=\u001b[0m \u001b[0m_broadcast_shape\u001b[0m\u001b[1;33m(\u001b[0m\u001b[1;33m*\u001b[0m\u001b[0margs\u001b[0m\u001b[1;33m)\u001b[0m\u001b[1;33m\u001b[0m\u001b[0m\n\u001b[0m\u001b[0;32m    250\u001b[0m \u001b[1;33m\u001b[0m\u001b[0m\n\u001b[0;32m    251\u001b[0m     \u001b[1;32mif\u001b[0m \u001b[0mall\u001b[0m\u001b[1;33m(\u001b[0m\u001b[0marray\u001b[0m\u001b[1;33m.\u001b[0m\u001b[0mshape\u001b[0m \u001b[1;33m==\u001b[0m \u001b[0mshape\u001b[0m \u001b[1;32mfor\u001b[0m \u001b[0marray\u001b[0m \u001b[1;32min\u001b[0m \u001b[0margs\u001b[0m\u001b[1;33m)\u001b[0m\u001b[1;33m:\u001b[0m\u001b[1;33m\u001b[0m\u001b[0m\n",
      "\u001b[1;32m~\\Anaconda2\\envs\\py36\\lib\\site-packages\\numpy\\lib\\stride_tricks.py\u001b[0m in \u001b[0;36m_broadcast_shape\u001b[1;34m(*args)\u001b[0m\n\u001b[0;32m    182\u001b[0m     \u001b[1;31m# use the old-iterator because np.nditer does not handle size 0 arrays\u001b[0m\u001b[1;33m\u001b[0m\u001b[1;33m\u001b[0m\u001b[0m\n\u001b[0;32m    183\u001b[0m     \u001b[1;31m# consistently\u001b[0m\u001b[1;33m\u001b[0m\u001b[1;33m\u001b[0m\u001b[0m\n\u001b[1;32m--> 184\u001b[1;33m     \u001b[0mb\u001b[0m \u001b[1;33m=\u001b[0m \u001b[0mnp\u001b[0m\u001b[1;33m.\u001b[0m\u001b[0mbroadcast\u001b[0m\u001b[1;33m(\u001b[0m\u001b[1;33m*\u001b[0m\u001b[0margs\u001b[0m\u001b[1;33m[\u001b[0m\u001b[1;33m:\u001b[0m\u001b[1;36m32\u001b[0m\u001b[1;33m]\u001b[0m\u001b[1;33m)\u001b[0m\u001b[1;33m\u001b[0m\u001b[0m\n\u001b[0m\u001b[0;32m    185\u001b[0m     \u001b[1;31m# unfortunately, it cannot handle 32 or more arguments directly\u001b[0m\u001b[1;33m\u001b[0m\u001b[1;33m\u001b[0m\u001b[0m\n\u001b[0;32m    186\u001b[0m     \u001b[1;32mfor\u001b[0m \u001b[0mpos\u001b[0m \u001b[1;32min\u001b[0m \u001b[0mrange\u001b[0m\u001b[1;33m(\u001b[0m\u001b[1;36m32\u001b[0m\u001b[1;33m,\u001b[0m \u001b[0mlen\u001b[0m\u001b[1;33m(\u001b[0m\u001b[0margs\u001b[0m\u001b[1;33m)\u001b[0m\u001b[1;33m,\u001b[0m \u001b[1;36m31\u001b[0m\u001b[1;33m)\u001b[0m\u001b[1;33m:\u001b[0m\u001b[1;33m\u001b[0m\u001b[0m\n",
      "\u001b[1;31mValueError\u001b[0m: shape mismatch: objects cannot be broadcast to a single shape"
     ]
    },
    {
     "data": {
      "image/png": "[encoded data removed]",
      "text/plain": [
       "<Figure size 432x288 with 1 Axes>"
      ]
     },
     "metadata": {},
     "output_type": "display_data"
    }
   ],
   "source": [
    "plot = plt.bar(x = bin_edges, align = 'edge', height = hist)"
   ]
  },
  {
   "cell_type": "code",
   "execution_count": 67,
   "metadata": {},
   "outputs": [
    {
     "name": "stdout",
     "output_type": "stream",
     "text": [
      "1\n",
      "23\n"
     ]
    }
   ],
   "source": [
    "poisson_numbers = np.random.poisson(lam = 10, size = 5000)\n",
    "print(min(poisson_numbers))\n",
    "print(max(poisson_numbers))"
   ]
  },
  {
   "cell_type": "code",
   "execution_count": 71,
   "metadata": {},
   "outputs": [
    {
     "name": "stdout",
     "output_type": "stream",
     "text": [
      "range(1, 24)\n"
     ]
    }
   ],
   "source": [
    "v = range(min(poisson_numbers), max(poisson_numbers) + 1)\n",
    "print(v)"
   ]
  },
  {
   "cell_type": "code",
   "execution_count": 73,
   "metadata": {},
   "outputs": [],
   "source": [
    "hist_2 = np.histogram(poisson_numbers, bins = v)"
   ]
  },
  {
   "cell_type": "code",
   "execution_count": 80,
   "metadata": {},
   "outputs": [
    {
     "ename": "AttributeError",
     "evalue": "'tuple' object has no attribute 'hist'",
     "output_type": "error",
     "traceback": [
      "\u001b[1;31m---------------------------------------------------------------------------\u001b[0m",
      "\u001b[1;31mAttributeError\u001b[0m                            Traceback (most recent call last)",
      "\u001b[1;32m<ipython-input-80-ae999a205720>\u001b[0m in \u001b[0;36m<module>\u001b[1;34m()\u001b[0m\n\u001b[1;32m----> 1\u001b[1;33m \u001b[0mplt\u001b[0m\u001b[1;33m.\u001b[0m\u001b[0mbar\u001b[0m\u001b[1;33m(\u001b[0m\u001b[0mhist_2\u001b[0m\u001b[1;33m.\u001b[0m\u001b[0mhist\u001b[0m\u001b[1;33m,\u001b[0m \u001b[0mhist_2\u001b[0m\u001b[1;33m.\u001b[0m\u001b[0mbin_edges\u001b[0m\u001b[1;33m)\u001b[0m\u001b[1;33m\u001b[0m\u001b[0m\n\u001b[0m",
      "\u001b[1;31mAttributeError\u001b[0m: 'tuple' object has no attribute 'hist'"
     ]
    }
   ],
   "source": [
    "plt.bar(hist_2.hist, hist_2.bin_edges)"
   ]
  },
  {
   "cell_type": "code",
   "execution_count": 81,
   "metadata": {},
   "outputs": [],
   "source": [
    "p = 10 / (5000 - 1)"
   ]
  },
  {
   "cell_type": "code",
   "execution_count": 83,
   "metadata": {},
   "outputs": [
    {
     "name": "stdout",
     "output_type": "stream",
     "text": [
      "[(0, 1), (1, 0), (2, 0), (3, 0), (4, 0), (5, 0), (6, 0), (7, 0), (8, 1), (9, 0)]\n"
     ]
    }
   ],
   "source": [
    "G_d = nx.gnm_random_graph(10, p)\n",
    "print(G_d.degree())"
   ]
  },
  {
   "cell_type": "code",
   "execution_count": null,
   "metadata": {},
   "outputs": [],
   "source": []
  }
 ],
 "metadata": {
  "kernelspec": {
   "display_name": "Python 3",
   "language": "python",
   "name": "python3"
  },
  "language_info": {
   "codemirror_mode": {
    "name": "ipython",
    "version": 3
   },
   "file_extension": ".py",
   "mimetype": "text/x-python",
   "name": "python",
   "nbconvert_exporter": "python",
   "pygments_lexer": "ipython3",
   "version": "3.6.5"
  }
 },
 "nbformat": 4,
 "nbformat_minor": 2
}
