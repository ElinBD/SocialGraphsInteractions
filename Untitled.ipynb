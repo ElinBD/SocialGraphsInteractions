{
 "cells": [
  {
   "cell_type": "code",
   "execution_count": 1,
   "metadata": {},
   "outputs": [
    {
     "name": "stdout",
     "output_type": "stream",
     "text": [
      "62.875751503006015\n",
      "7.906420841683366\n",
      "4.720360721442886\n",
      "When p is 1, all nodes have k links\n"
     ]
    }
   ],
   "source": [
    "import networkx as nx\n",
    "import numpy as np\n",
    "\n",
    "graph_a = nx.watts_strogatz_graph(500, 4, 0)\n",
    "graph_b = nx.watts_strogatz_graph(500, 4, 0.1)\n",
    "graph_c = nx.watts_strogatz_graph(500, 4, 1)\n",
    "\n",
    "sp_a = nx.average_shortest_path_length(graph_a)\n",
    "sp_b = nx.average_shortest_path_length(graph_b)\n",
    "sp_c = nx.average_shortest_path_length(graph_c)\n",
    "\n",
    "print (sp_a)\n",
    "print (sp_b)\n",
    "print (sp_c)\n",
    "print ('When p is 1, all nodes have k links')"
   ]
  },
  {
   "cell_type": "code",
   "execution_count": 2,
   "metadata": {},
   "outputs": [
    {
     "name": "stdout",
     "output_type": "stream",
     "text": [
      "4.858276553106212\n",
      "When p is higher than 0.5, the number is under 5 and close to when p=1\n"
     ]
    }
   ],
   "source": [
    "graph_d = nx.watts_strogatz_graph(500, 4, 0.6)\n",
    "sp_d = nx.average_shortest_path_length(graph_d)\n",
    "print(sp_d)\n",
    "print('When p is higher than 0.5, the number is under 5 and close to when p=1')"
   ]
  },
  {
   "cell_type": "markdown",
   "metadata": {},
   "source": [
    "#part 2"
   ]
  },
  {
   "cell_type": "code",
   "execution_count": 6,
   "metadata": {},
   "outputs": [],
   "source": [
    "graph = nx.Graph()\n",
    "graph.add_nodes_from([1, 2])\n",
    "graph.add_edge(1,2)"
   ]
  },
  {
   "cell_type": "code",
   "execution_count": 7,
   "metadata": {},
   "outputs": [],
   "source": [
    "graph.add_node(3)"
   ]
  },
  {
   "cell_type": "code",
   "execution_count": 8,
   "metadata": {},
   "outputs": [],
   "source": [
    "graph.add_edge(2, 3)"
   ]
  },
  {
   "cell_type": "code",
   "execution_count": null,
   "metadata": {},
   "outputs": [],
   "source": []
  }
 ],
 "metadata": {
  "kernelspec": {
   "display_name": "Python 3",
   "language": "python",
   "name": "python3"
  },
  "language_info": {
   "codemirror_mode": {
    "name": "ipython",
    "version": 3
   },
   "file_extension": ".py",
   "mimetype": "text/x-python",
   "name": "python",
   "nbconvert_exporter": "python",
   "pygments_lexer": "ipython3",
   "version": "3.6.5"
  }
 },
 "nbformat": 4,
 "nbformat_minor": 2
}
